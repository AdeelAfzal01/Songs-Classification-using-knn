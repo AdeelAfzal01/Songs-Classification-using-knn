{
 "cells": [
  {
   "cell_type": "code",
   "execution_count": 1,
   "metadata": {},
   "outputs": [],
   "source": [
    "## importing the libraries\n",
    "import pandas as pd\n",
    "import numpy as np\n",
    "import matplotlib.pyplot as plt\n",
    "import seaborn as sns\n",
    "%matplotlib inline"
   ]
  },
  {
   "cell_type": "code",
   "execution_count": 2,
   "metadata": {},
   "outputs": [],
   "source": [
    "## Reading the Dataset\n",
    "training_data= pd.read_csv('training_data.csv')"
   ]
  },
  {
   "cell_type": "markdown",
   "metadata": {},
   "source": [
    "### Data Analysis"
   ]
  },
  {
   "cell_type": "code",
   "execution_count": 3,
   "metadata": {},
   "outputs": [
    {
     "data": {
      "text/html": [
       "<div>\n",
       "<style scoped>\n",
       "    .dataframe tbody tr th:only-of-type {\n",
       "        vertical-align: middle;\n",
       "    }\n",
       "\n",
       "    .dataframe tbody tr th {\n",
       "        vertical-align: top;\n",
       "    }\n",
       "\n",
       "    .dataframe thead th {\n",
       "        text-align: right;\n",
       "    }\n",
       "</style>\n",
       "<table border=\"1\" class=\"dataframe\">\n",
       "  <thead>\n",
       "    <tr style=\"text-align: right;\">\n",
       "      <th></th>\n",
       "      <th>acousticness</th>\n",
       "      <th>danceability</th>\n",
       "      <th>duration</th>\n",
       "      <th>energy</th>\n",
       "      <th>instrumentalness</th>\n",
       "      <th>key</th>\n",
       "      <th>liveness</th>\n",
       "      <th>loudness</th>\n",
       "      <th>mode</th>\n",
       "      <th>speechiness</th>\n",
       "      <th>tempo</th>\n",
       "      <th>time_signature</th>\n",
       "      <th>valence</th>\n",
       "      <th>label</th>\n",
       "    </tr>\n",
       "  </thead>\n",
       "  <tbody>\n",
       "    <tr>\n",
       "      <th>0</th>\n",
       "      <td>0.8850</td>\n",
       "      <td>0.366</td>\n",
       "      <td>352000</td>\n",
       "      <td>0.139</td>\n",
       "      <td>0.913000</td>\n",
       "      <td>7</td>\n",
       "      <td>0.0725</td>\n",
       "      <td>-19.978</td>\n",
       "      <td>1</td>\n",
       "      <td>0.0390</td>\n",
       "      <td>139.478</td>\n",
       "      <td>4</td>\n",
       "      <td>0.310</td>\n",
       "      <td>1</td>\n",
       "    </tr>\n",
       "    <tr>\n",
       "      <th>1</th>\n",
       "      <td>0.1240</td>\n",
       "      <td>0.863</td>\n",
       "      <td>236293</td>\n",
       "      <td>0.576</td>\n",
       "      <td>0.000000</td>\n",
       "      <td>5</td>\n",
       "      <td>0.1430</td>\n",
       "      <td>-5.687</td>\n",
       "      <td>0</td>\n",
       "      <td>0.2390</td>\n",
       "      <td>132.054</td>\n",
       "      <td>4</td>\n",
       "      <td>0.832</td>\n",
       "      <td>0</td>\n",
       "    </tr>\n",
       "    <tr>\n",
       "      <th>2</th>\n",
       "      <td>0.1840</td>\n",
       "      <td>0.631</td>\n",
       "      <td>219160</td>\n",
       "      <td>0.699</td>\n",
       "      <td>0.000000</td>\n",
       "      <td>9</td>\n",
       "      <td>0.1080</td>\n",
       "      <td>-7.625</td>\n",
       "      <td>0</td>\n",
       "      <td>0.0284</td>\n",
       "      <td>128.433</td>\n",
       "      <td>4</td>\n",
       "      <td>0.707</td>\n",
       "      <td>1</td>\n",
       "    </tr>\n",
       "    <tr>\n",
       "      <th>3</th>\n",
       "      <td>0.0108</td>\n",
       "      <td>0.800</td>\n",
       "      <td>201840</td>\n",
       "      <td>0.894</td>\n",
       "      <td>0.437000</td>\n",
       "      <td>6</td>\n",
       "      <td>0.0285</td>\n",
       "      <td>-7.346</td>\n",
       "      <td>0</td>\n",
       "      <td>0.0400</td>\n",
       "      <td>138.480</td>\n",
       "      <td>4</td>\n",
       "      <td>0.967</td>\n",
       "      <td>0</td>\n",
       "    </tr>\n",
       "    <tr>\n",
       "      <th>4</th>\n",
       "      <td>0.0044</td>\n",
       "      <td>0.788</td>\n",
       "      <td>228000</td>\n",
       "      <td>0.673</td>\n",
       "      <td>0.000005</td>\n",
       "      <td>9</td>\n",
       "      <td>0.0755</td>\n",
       "      <td>-9.232</td>\n",
       "      <td>1</td>\n",
       "      <td>0.1990</td>\n",
       "      <td>99.979</td>\n",
       "      <td>4</td>\n",
       "      <td>0.478</td>\n",
       "      <td>0</td>\n",
       "    </tr>\n",
       "  </tbody>\n",
       "</table>\n",
       "</div>"
      ],
      "text/plain": [
       "   acousticness  danceability  duration  energy  instrumentalness  key  \\\n",
       "0        0.8850         0.366    352000   0.139          0.913000    7   \n",
       "1        0.1240         0.863    236293   0.576          0.000000    5   \n",
       "2        0.1840         0.631    219160   0.699          0.000000    9   \n",
       "3        0.0108         0.800    201840   0.894          0.437000    6   \n",
       "4        0.0044         0.788    228000   0.673          0.000005    9   \n",
       "\n",
       "   liveness  loudness  mode  speechiness    tempo  time_signature  valence  \\\n",
       "0    0.0725   -19.978     1       0.0390  139.478               4    0.310   \n",
       "1    0.1430    -5.687     0       0.2390  132.054               4    0.832   \n",
       "2    0.1080    -7.625     0       0.0284  128.433               4    0.707   \n",
       "3    0.0285    -7.346     0       0.0400  138.480               4    0.967   \n",
       "4    0.0755    -9.232     1       0.1990   99.979               4    0.478   \n",
       "\n",
       "   label  \n",
       "0      1  \n",
       "1      0  \n",
       "2      1  \n",
       "3      0  \n",
       "4      0  "
      ]
     },
     "execution_count": 3,
     "metadata": {},
     "output_type": "execute_result"
    }
   ],
   "source": [
    "training_data.head()"
   ]
  },
  {
   "cell_type": "code",
   "execution_count": 4,
   "metadata": {},
   "outputs": [
    {
     "name": "stdout",
     "output_type": "stream",
     "text": [
      "<class 'pandas.core.frame.DataFrame'>\n",
      "RangeIndex: 750 entries, 0 to 749\n",
      "Data columns (total 14 columns):\n",
      " #   Column            Non-Null Count  Dtype  \n",
      "---  ------            --------------  -----  \n",
      " 0   acousticness      750 non-null    float64\n",
      " 1   danceability      750 non-null    float64\n",
      " 2   duration          750 non-null    int64  \n",
      " 3   energy            750 non-null    float64\n",
      " 4   instrumentalness  750 non-null    float64\n",
      " 5   key               750 non-null    int64  \n",
      " 6   liveness          750 non-null    float64\n",
      " 7   loudness          750 non-null    float64\n",
      " 8   mode              750 non-null    int64  \n",
      " 9   speechiness       750 non-null    float64\n",
      " 10  tempo             750 non-null    float64\n",
      " 11  time_signature    750 non-null    int64  \n",
      " 12  valence           750 non-null    float64\n",
      " 13  label             750 non-null    int64  \n",
      "dtypes: float64(9), int64(5)\n",
      "memory usage: 82.2 KB\n"
     ]
    }
   ],
   "source": [
    "training_data.info()"
   ]
  },
  {
   "cell_type": "code",
   "execution_count": 5,
   "metadata": {
    "scrolled": false
   },
   "outputs": [
    {
     "data": {
      "text/html": [
       "<div>\n",
       "<style scoped>\n",
       "    .dataframe tbody tr th:only-of-type {\n",
       "        vertical-align: middle;\n",
       "    }\n",
       "\n",
       "    .dataframe tbody tr th {\n",
       "        vertical-align: top;\n",
       "    }\n",
       "\n",
       "    .dataframe thead th {\n",
       "        text-align: right;\n",
       "    }\n",
       "</style>\n",
       "<table border=\"1\" class=\"dataframe\">\n",
       "  <thead>\n",
       "    <tr style=\"text-align: right;\">\n",
       "      <th></th>\n",
       "      <th>count</th>\n",
       "      <th>mean</th>\n",
       "      <th>std</th>\n",
       "      <th>min</th>\n",
       "      <th>25%</th>\n",
       "      <th>50%</th>\n",
       "      <th>75%</th>\n",
       "      <th>max</th>\n",
       "    </tr>\n",
       "  </thead>\n",
       "  <tbody>\n",
       "    <tr>\n",
       "      <th>acousticness</th>\n",
       "      <td>750.0</td>\n",
       "      <td>0.347011</td>\n",
       "      <td>0.330472</td>\n",
       "      <td>0.000001</td>\n",
       "      <td>0.038425</td>\n",
       "      <td>0.22800</td>\n",
       "      <td>0.649500</td>\n",
       "      <td>0.994</td>\n",
       "    </tr>\n",
       "    <tr>\n",
       "      <th>danceability</th>\n",
       "      <td>750.0</td>\n",
       "      <td>0.594207</td>\n",
       "      <td>0.169757</td>\n",
       "      <td>0.135000</td>\n",
       "      <td>0.480250</td>\n",
       "      <td>0.60500</td>\n",
       "      <td>0.714750</td>\n",
       "      <td>0.986</td>\n",
       "    </tr>\n",
       "    <tr>\n",
       "      <th>duration</th>\n",
       "      <td>750.0</td>\n",
       "      <td>221003.086667</td>\n",
       "      <td>62925.264585</td>\n",
       "      <td>33840.000000</td>\n",
       "      <td>185756.500000</td>\n",
       "      <td>216926.50000</td>\n",
       "      <td>247377.000000</td>\n",
       "      <td>618400.000</td>\n",
       "    </tr>\n",
       "    <tr>\n",
       "      <th>energy</th>\n",
       "      <td>750.0</td>\n",
       "      <td>0.598145</td>\n",
       "      <td>0.248532</td>\n",
       "      <td>0.009250</td>\n",
       "      <td>0.436500</td>\n",
       "      <td>0.63950</td>\n",
       "      <td>0.802750</td>\n",
       "      <td>0.995</td>\n",
       "    </tr>\n",
       "    <tr>\n",
       "      <th>instrumentalness</th>\n",
       "      <td>750.0</td>\n",
       "      <td>0.082957</td>\n",
       "      <td>0.235436</td>\n",
       "      <td>0.000000</td>\n",
       "      <td>0.000000</td>\n",
       "      <td>0.00001</td>\n",
       "      <td>0.001285</td>\n",
       "      <td>0.967</td>\n",
       "    </tr>\n",
       "    <tr>\n",
       "      <th>key</th>\n",
       "      <td>750.0</td>\n",
       "      <td>4.844000</td>\n",
       "      <td>3.665366</td>\n",
       "      <td>0.000000</td>\n",
       "      <td>1.000000</td>\n",
       "      <td>5.00000</td>\n",
       "      <td>8.000000</td>\n",
       "      <td>11.000</td>\n",
       "    </tr>\n",
       "    <tr>\n",
       "      <th>liveness</th>\n",
       "      <td>750.0</td>\n",
       "      <td>0.207488</td>\n",
       "      <td>0.174199</td>\n",
       "      <td>0.028500</td>\n",
       "      <td>0.098200</td>\n",
       "      <td>0.13400</td>\n",
       "      <td>0.271750</td>\n",
       "      <td>0.970</td>\n",
       "    </tr>\n",
       "    <tr>\n",
       "      <th>loudness</th>\n",
       "      <td>750.0</td>\n",
       "      <td>-8.385997</td>\n",
       "      <td>4.928253</td>\n",
       "      <td>-32.783000</td>\n",
       "      <td>-10.010250</td>\n",
       "      <td>-7.12750</td>\n",
       "      <td>-5.176750</td>\n",
       "      <td>-0.533</td>\n",
       "    </tr>\n",
       "    <tr>\n",
       "      <th>mode</th>\n",
       "      <td>750.0</td>\n",
       "      <td>0.742667</td>\n",
       "      <td>0.437456</td>\n",
       "      <td>0.000000</td>\n",
       "      <td>0.000000</td>\n",
       "      <td>1.00000</td>\n",
       "      <td>1.000000</td>\n",
       "      <td>1.000</td>\n",
       "    </tr>\n",
       "    <tr>\n",
       "      <th>speechiness</th>\n",
       "      <td>750.0</td>\n",
       "      <td>0.101454</td>\n",
       "      <td>0.111052</td>\n",
       "      <td>0.023400</td>\n",
       "      <td>0.035400</td>\n",
       "      <td>0.04890</td>\n",
       "      <td>0.118000</td>\n",
       "      <td>0.869</td>\n",
       "    </tr>\n",
       "    <tr>\n",
       "      <th>tempo</th>\n",
       "      <td>750.0</td>\n",
       "      <td>119.813907</td>\n",
       "      <td>28.227917</td>\n",
       "      <td>47.193000</td>\n",
       "      <td>98.014750</td>\n",
       "      <td>120.02350</td>\n",
       "      <td>137.476750</td>\n",
       "      <td>204.162</td>\n",
       "    </tr>\n",
       "    <tr>\n",
       "      <th>time_signature</th>\n",
       "      <td>750.0</td>\n",
       "      <td>3.906667</td>\n",
       "      <td>0.406007</td>\n",
       "      <td>1.000000</td>\n",
       "      <td>4.000000</td>\n",
       "      <td>4.00000</td>\n",
       "      <td>4.000000</td>\n",
       "      <td>5.000</td>\n",
       "    </tr>\n",
       "    <tr>\n",
       "      <th>valence</th>\n",
       "      <td>750.0</td>\n",
       "      <td>0.503727</td>\n",
       "      <td>0.237757</td>\n",
       "      <td>0.033200</td>\n",
       "      <td>0.302500</td>\n",
       "      <td>0.49250</td>\n",
       "      <td>0.682750</td>\n",
       "      <td>0.975</td>\n",
       "    </tr>\n",
       "    <tr>\n",
       "      <th>label</th>\n",
       "      <td>750.0</td>\n",
       "      <td>0.602667</td>\n",
       "      <td>0.489673</td>\n",
       "      <td>0.000000</td>\n",
       "      <td>0.000000</td>\n",
       "      <td>1.00000</td>\n",
       "      <td>1.000000</td>\n",
       "      <td>1.000</td>\n",
       "    </tr>\n",
       "  </tbody>\n",
       "</table>\n",
       "</div>"
      ],
      "text/plain": [
       "                  count           mean           std           min  \\\n",
       "acousticness      750.0       0.347011      0.330472      0.000001   \n",
       "danceability      750.0       0.594207      0.169757      0.135000   \n",
       "duration          750.0  221003.086667  62925.264585  33840.000000   \n",
       "energy            750.0       0.598145      0.248532      0.009250   \n",
       "instrumentalness  750.0       0.082957      0.235436      0.000000   \n",
       "key               750.0       4.844000      3.665366      0.000000   \n",
       "liveness          750.0       0.207488      0.174199      0.028500   \n",
       "loudness          750.0      -8.385997      4.928253    -32.783000   \n",
       "mode              750.0       0.742667      0.437456      0.000000   \n",
       "speechiness       750.0       0.101454      0.111052      0.023400   \n",
       "tempo             750.0     119.813907     28.227917     47.193000   \n",
       "time_signature    750.0       3.906667      0.406007      1.000000   \n",
       "valence           750.0       0.503727      0.237757      0.033200   \n",
       "label             750.0       0.602667      0.489673      0.000000   \n",
       "\n",
       "                            25%           50%            75%         max  \n",
       "acousticness           0.038425       0.22800       0.649500       0.994  \n",
       "danceability           0.480250       0.60500       0.714750       0.986  \n",
       "duration          185756.500000  216926.50000  247377.000000  618400.000  \n",
       "energy                 0.436500       0.63950       0.802750       0.995  \n",
       "instrumentalness       0.000000       0.00001       0.001285       0.967  \n",
       "key                    1.000000       5.00000       8.000000      11.000  \n",
       "liveness               0.098200       0.13400       0.271750       0.970  \n",
       "loudness             -10.010250      -7.12750      -5.176750      -0.533  \n",
       "mode                   0.000000       1.00000       1.000000       1.000  \n",
       "speechiness            0.035400       0.04890       0.118000       0.869  \n",
       "tempo                 98.014750     120.02350     137.476750     204.162  \n",
       "time_signature         4.000000       4.00000       4.000000       5.000  \n",
       "valence                0.302500       0.49250       0.682750       0.975  \n",
       "label                  0.000000       1.00000       1.000000       1.000  "
      ]
     },
     "execution_count": 5,
     "metadata": {},
     "output_type": "execute_result"
    }
   ],
   "source": [
    "training_data.describe().T"
   ]
  },
  {
   "cell_type": "markdown",
   "metadata": {},
   "source": [
    "### Data visualization"
   ]
  },
  {
   "cell_type": "code",
   "execution_count": 6,
   "metadata": {},
   "outputs": [
    {
     "data": {
      "text/plain": [
       "<matplotlib.axes._subplots.AxesSubplot at 0x13003ac8910>"
      ]
     },
     "execution_count": 6,
     "metadata": {},
     "output_type": "execute_result"
    },
    {
     "data": {
      "image/png": "[encoded data removed]",
      "text/plain": [
       "<Figure size 576x576 with 1 Axes>"
      ]
     },
     "metadata": {},
     "output_type": "display_data"
    }
   ],
   "source": [
    "#training_data['mode'].value_counts()\n",
    "training_data['mode'].value_counts().plot(kind='pie', figsize=(8,8))"
   ]
  },
  {
   "cell_type": "code",
   "execution_count": 7,
   "metadata": {},
   "outputs": [
    {
     "data": {
      "text/plain": [
       "<matplotlib.axes._subplots.AxesSubplot at 0x1307eca3d00>"
      ]
     },
     "execution_count": 7,
     "metadata": {},
     "output_type": "execute_result"
    },
    {
     "data": {
      "image/png": "[encoded data removed]",
      "text/plain": [
       "<Figure size 576x576 with 1 Axes>"
      ]
     },
     "metadata": {},
     "output_type": "display_data"
    }
   ],
   "source": [
    "#training_data['time_signature'].value_counts()\n",
    "training_data['time_signature'].value_counts().plot(kind='pie', figsize=(8,8))"
   ]
  },
  {
   "cell_type": "code",
   "execution_count": 8,
   "metadata": {},
   "outputs": [
    {
     "data": {
      "text/plain": [
       "<matplotlib.axes._subplots.AxesSubplot at 0x130042475b0>"
      ]
     },
     "execution_count": 8,
     "metadata": {},
     "output_type": "execute_result"
    },
    {
     "data": {
      "image/png": "[encoded data removed]",
      "text/plain": [
       "<Figure size 1008x576 with 1 Axes>"
      ]
     },
     "metadata": {
      "needs_background": "light"
     },
     "output_type": "display_data"
    }
   ],
   "source": [
    "## Analyzing frequency of points in key feature using bar plotting\n",
    "training_data.key.value_counts().plot(kind='bar', figsize=(14,8))\n",
    "#training_data.key.unique()"
   ]
  },
  {
   "cell_type": "code",
   "execution_count": 9,
   "metadata": {},
   "outputs": [
    {
     "data": {
      "text/plain": [
       "<matplotlib.axes._subplots.AxesSubplot at 0x130042b6c70>"
      ]
     },
     "execution_count": 9,
     "metadata": {},
     "output_type": "execute_result"
    },
    {
     "data": {
      "image/png": "[encoded data removed]",
      "text/plain": [
       "<Figure size 1008x432 with 1 Axes>"
      ]
     },
     "metadata": {
      "needs_background": "light"
     },
     "output_type": "display_data"
    }
   ],
   "source": [
    "training_data.acousticness.plot(kind='kde', figsize=(14,6))"
   ]
  },
  {
   "cell_type": "code",
   "execution_count": 44,
   "metadata": {},
   "outputs": [
    {
     "data": {
      "text/plain": [
       "<matplotlib.axes._subplots.AxesSubplot at 0x12c29e0c040>"
      ]
     },
     "execution_count": 44,
     "metadata": {},
     "output_type": "execute_result"
    },
    {
     "data": {
      "image/png": "[encoded data removed]",
      "text/plain": [
       "<Figure size 1008x432 with 1 Axes>"
      ]
     },
     "metadata": {
      "needs_background": "light"
     },
     "output_type": "display_data"
    }
   ],
   "source": [
    "training_data.liveness.plot(kind='box', figsize=(14,6))"
   ]
  },
  {
   "cell_type": "markdown",
   "metadata": {},
   "source": [
    "### Problem with having Multicollinearity\n",
    "\n",
    "\n",
    "Multicollinearity occurs when two or more independent variables are highly correlated with one another. Multicollinearity can be detected via various methods. Here, we will focus on the most common two.\n",
    "- Correlation\n",
    "- VIF (Variable Inflation Factors).\n",
    "\n",
    "\n"
   ]
  },
  {
   "cell_type": "markdown",
   "metadata": {},
   "source": [
    "#### Corelation"
   ]
  },
  {
   "cell_type": "code",
   "execution_count": 10,
   "metadata": {},
   "outputs": [
    {
     "data": {
      "text/html": [
       "<div>\n",
       "<style scoped>\n",
       "    .dataframe tbody tr th:only-of-type {\n",
       "        vertical-align: middle;\n",
       "    }\n",
       "\n",
       "    .dataframe tbody tr th {\n",
       "        vertical-align: top;\n",
       "    }\n",
       "\n",
       "    .dataframe thead th {\n",
       "        text-align: right;\n",
       "    }\n",
       "</style>\n",
       "<table border=\"1\" class=\"dataframe\">\n",
       "  <thead>\n",
       "    <tr style=\"text-align: right;\">\n",
       "      <th></th>\n",
       "      <th>acousticness</th>\n",
       "      <th>danceability</th>\n",
       "      <th>duration</th>\n",
       "      <th>energy</th>\n",
       "      <th>instrumentalness</th>\n",
       "      <th>key</th>\n",
       "      <th>liveness</th>\n",
       "      <th>loudness</th>\n",
       "      <th>mode</th>\n",
       "      <th>speechiness</th>\n",
       "      <th>tempo</th>\n",
       "      <th>time_signature</th>\n",
       "      <th>valence</th>\n",
       "      <th>label</th>\n",
       "    </tr>\n",
       "  </thead>\n",
       "  <tbody>\n",
       "    <tr>\n",
       "      <th>acousticness</th>\n",
       "      <td>1.000000</td>\n",
       "      <td>-0.426793</td>\n",
       "      <td>0.042703</td>\n",
       "      <td>-0.771265</td>\n",
       "      <td>0.329009</td>\n",
       "      <td>-0.068101</td>\n",
       "      <td>-0.123512</td>\n",
       "      <td>-0.684040</td>\n",
       "      <td>0.109343</td>\n",
       "      <td>-0.211553</td>\n",
       "      <td>-0.146647</td>\n",
       "      <td>-0.244286</td>\n",
       "      <td>-0.264162</td>\n",
       "      <td>0.459151</td>\n",
       "    </tr>\n",
       "    <tr>\n",
       "      <th>danceability</th>\n",
       "      <td>-0.426793</td>\n",
       "      <td>1.000000</td>\n",
       "      <td>-0.246220</td>\n",
       "      <td>0.388466</td>\n",
       "      <td>-0.247306</td>\n",
       "      <td>0.028109</td>\n",
       "      <td>-0.120421</td>\n",
       "      <td>0.392318</td>\n",
       "      <td>-0.055700</td>\n",
       "      <td>0.277556</td>\n",
       "      <td>0.072492</td>\n",
       "      <td>0.273686</td>\n",
       "      <td>0.482284</td>\n",
       "      <td>-0.365389</td>\n",
       "    </tr>\n",
       "    <tr>\n",
       "      <th>duration</th>\n",
       "      <td>0.042703</td>\n",
       "      <td>-0.246220</td>\n",
       "      <td>1.000000</td>\n",
       "      <td>-0.068901</td>\n",
       "      <td>0.114009</td>\n",
       "      <td>0.042249</td>\n",
       "      <td>-0.002234</td>\n",
       "      <td>-0.120319</td>\n",
       "      <td>-0.023736</td>\n",
       "      <td>-0.094441</td>\n",
       "      <td>-0.108621</td>\n",
       "      <td>-0.012212</td>\n",
       "      <td>-0.239606</td>\n",
       "      <td>0.121365</td>\n",
       "    </tr>\n",
       "    <tr>\n",
       "      <th>energy</th>\n",
       "      <td>-0.771265</td>\n",
       "      <td>0.388466</td>\n",
       "      <td>-0.068901</td>\n",
       "      <td>1.000000</td>\n",
       "      <td>-0.285541</td>\n",
       "      <td>0.068721</td>\n",
       "      <td>0.243633</td>\n",
       "      <td>0.818155</td>\n",
       "      <td>-0.099907</td>\n",
       "      <td>0.169796</td>\n",
       "      <td>0.171067</td>\n",
       "      <td>0.268790</td>\n",
       "      <td>0.409555</td>\n",
       "      <td>-0.442860</td>\n",
       "    </tr>\n",
       "    <tr>\n",
       "      <th>instrumentalness</th>\n",
       "      <td>0.329009</td>\n",
       "      <td>-0.247306</td>\n",
       "      <td>0.114009</td>\n",
       "      <td>-0.285541</td>\n",
       "      <td>1.000000</td>\n",
       "      <td>-0.051761</td>\n",
       "      <td>-0.071634</td>\n",
       "      <td>-0.475180</td>\n",
       "      <td>-0.004200</td>\n",
       "      <td>-0.151462</td>\n",
       "      <td>-0.064900</td>\n",
       "      <td>-0.096660</td>\n",
       "      <td>-0.223484</td>\n",
       "      <td>0.136434</td>\n",
       "    </tr>\n",
       "    <tr>\n",
       "      <th>key</th>\n",
       "      <td>-0.068101</td>\n",
       "      <td>0.028109</td>\n",
       "      <td>0.042249</td>\n",
       "      <td>0.068721</td>\n",
       "      <td>-0.051761</td>\n",
       "      <td>1.000000</td>\n",
       "      <td>-0.070804</td>\n",
       "      <td>0.023270</td>\n",
       "      <td>-0.132482</td>\n",
       "      <td>0.062079</td>\n",
       "      <td>-0.043271</td>\n",
       "      <td>0.097862</td>\n",
       "      <td>0.063650</td>\n",
       "      <td>-0.042763</td>\n",
       "    </tr>\n",
       "    <tr>\n",
       "      <th>liveness</th>\n",
       "      <td>-0.123512</td>\n",
       "      <td>-0.120421</td>\n",
       "      <td>-0.002234</td>\n",
       "      <td>0.243633</td>\n",
       "      <td>-0.071634</td>\n",
       "      <td>-0.070804</td>\n",
       "      <td>1.000000</td>\n",
       "      <td>0.173152</td>\n",
       "      <td>-0.037246</td>\n",
       "      <td>0.113004</td>\n",
       "      <td>-0.027347</td>\n",
       "      <td>0.027452</td>\n",
       "      <td>0.064986</td>\n",
       "      <td>-0.142284</td>\n",
       "    </tr>\n",
       "    <tr>\n",
       "      <th>loudness</th>\n",
       "      <td>-0.684040</td>\n",
       "      <td>0.392318</td>\n",
       "      <td>-0.120319</td>\n",
       "      <td>0.818155</td>\n",
       "      <td>-0.475180</td>\n",
       "      <td>0.023270</td>\n",
       "      <td>0.173152</td>\n",
       "      <td>1.000000</td>\n",
       "      <td>-0.076997</td>\n",
       "      <td>0.173760</td>\n",
       "      <td>0.157242</td>\n",
       "      <td>0.231976</td>\n",
       "      <td>0.297878</td>\n",
       "      <td>-0.399617</td>\n",
       "    </tr>\n",
       "    <tr>\n",
       "      <th>mode</th>\n",
       "      <td>0.109343</td>\n",
       "      <td>-0.055700</td>\n",
       "      <td>-0.023736</td>\n",
       "      <td>-0.099907</td>\n",
       "      <td>-0.004200</td>\n",
       "      <td>-0.132482</td>\n",
       "      <td>-0.037246</td>\n",
       "      <td>-0.076997</td>\n",
       "      <td>1.000000</td>\n",
       "      <td>-0.116471</td>\n",
       "      <td>0.005051</td>\n",
       "      <td>-0.045203</td>\n",
       "      <td>0.068248</td>\n",
       "      <td>0.089219</td>\n",
       "    </tr>\n",
       "    <tr>\n",
       "      <th>speechiness</th>\n",
       "      <td>-0.211553</td>\n",
       "      <td>0.277556</td>\n",
       "      <td>-0.094441</td>\n",
       "      <td>0.169796</td>\n",
       "      <td>-0.151462</td>\n",
       "      <td>0.062079</td>\n",
       "      <td>0.113004</td>\n",
       "      <td>0.173760</td>\n",
       "      <td>-0.116471</td>\n",
       "      <td>1.000000</td>\n",
       "      <td>0.096851</td>\n",
       "      <td>0.089559</td>\n",
       "      <td>0.103731</td>\n",
       "      <td>-0.476312</td>\n",
       "    </tr>\n",
       "    <tr>\n",
       "      <th>tempo</th>\n",
       "      <td>-0.146647</td>\n",
       "      <td>0.072492</td>\n",
       "      <td>-0.108621</td>\n",
       "      <td>0.171067</td>\n",
       "      <td>-0.064900</td>\n",
       "      <td>-0.043271</td>\n",
       "      <td>-0.027347</td>\n",
       "      <td>0.157242</td>\n",
       "      <td>0.005051</td>\n",
       "      <td>0.096851</td>\n",
       "      <td>1.000000</td>\n",
       "      <td>0.019914</td>\n",
       "      <td>0.099824</td>\n",
       "      <td>-0.071761</td>\n",
       "    </tr>\n",
       "    <tr>\n",
       "      <th>time_signature</th>\n",
       "      <td>-0.244286</td>\n",
       "      <td>0.273686</td>\n",
       "      <td>-0.012212</td>\n",
       "      <td>0.268790</td>\n",
       "      <td>-0.096660</td>\n",
       "      <td>0.097862</td>\n",
       "      <td>0.027452</td>\n",
       "      <td>0.231976</td>\n",
       "      <td>-0.045203</td>\n",
       "      <td>0.089559</td>\n",
       "      <td>0.019914</td>\n",
       "      <td>1.000000</td>\n",
       "      <td>0.173242</td>\n",
       "      <td>-0.173349</td>\n",
       "    </tr>\n",
       "    <tr>\n",
       "      <th>valence</th>\n",
       "      <td>-0.264162</td>\n",
       "      <td>0.482284</td>\n",
       "      <td>-0.239606</td>\n",
       "      <td>0.409555</td>\n",
       "      <td>-0.223484</td>\n",
       "      <td>0.063650</td>\n",
       "      <td>0.064986</td>\n",
       "      <td>0.297878</td>\n",
       "      <td>0.068248</td>\n",
       "      <td>0.103731</td>\n",
       "      <td>0.099824</td>\n",
       "      <td>0.173242</td>\n",
       "      <td>1.000000</td>\n",
       "      <td>-0.194989</td>\n",
       "    </tr>\n",
       "    <tr>\n",
       "      <th>label</th>\n",
       "      <td>0.459151</td>\n",
       "      <td>-0.365389</td>\n",
       "      <td>0.121365</td>\n",
       "      <td>-0.442860</td>\n",
       "      <td>0.136434</td>\n",
       "      <td>-0.042763</td>\n",
       "      <td>-0.142284</td>\n",
       "      <td>-0.399617</td>\n",
       "      <td>0.089219</td>\n",
       "      <td>-0.476312</td>\n",
       "      <td>-0.071761</td>\n",
       "      <td>-0.173349</td>\n",
       "      <td>-0.194989</td>\n",
       "      <td>1.000000</td>\n",
       "    </tr>\n",
       "  </tbody>\n",
       "</table>\n",
       "</div>"
      ],
      "text/plain": [
       "                  acousticness  danceability  duration    energy  \\\n",
       "acousticness          1.000000     -0.426793  0.042703 -0.771265   \n",
       "danceability         -0.426793      1.000000 -0.246220  0.388466   \n",
       "duration              0.042703     -0.246220  1.000000 -0.068901   \n",
       "energy               -0.771265      0.388466 -0.068901  1.000000   \n",
       "instrumentalness      0.329009     -0.247306  0.114009 -0.285541   \n",
       "key                  -0.068101      0.028109  0.042249  0.068721   \n",
       "liveness             -0.123512     -0.120421 -0.002234  0.243633   \n",
       "loudness             -0.684040      0.392318 -0.120319  0.818155   \n",
       "mode                  0.109343     -0.055700 -0.023736 -0.099907   \n",
       "speechiness          -0.211553      0.277556 -0.094441  0.169796   \n",
       "tempo                -0.146647      0.072492 -0.108621  0.171067   \n",
       "time_signature       -0.244286      0.273686 -0.012212  0.268790   \n",
       "valence              -0.264162      0.482284 -0.239606  0.409555   \n",
       "label                 0.459151     -0.365389  0.121365 -0.442860   \n",
       "\n",
       "                  instrumentalness       key  liveness  loudness      mode  \\\n",
       "acousticness              0.329009 -0.068101 -0.123512 -0.684040  0.109343   \n",
       "danceability             -0.247306  0.028109 -0.120421  0.392318 -0.055700   \n",
       "duration                  0.114009  0.042249 -0.002234 -0.120319 -0.023736   \n",
       "energy                   -0.285541  0.068721  0.243633  0.818155 -0.099907   \n",
       "instrumentalness          1.000000 -0.051761 -0.071634 -0.475180 -0.004200   \n",
       "key                      -0.051761  1.000000 -0.070804  0.023270 -0.132482   \n",
       "liveness                 -0.071634 -0.070804  1.000000  0.173152 -0.037246   \n",
       "loudness                 -0.475180  0.023270  0.173152  1.000000 -0.076997   \n",
       "mode                     -0.004200 -0.132482 -0.037246 -0.076997  1.000000   \n",
       "speechiness              -0.151462  0.062079  0.113004  0.173760 -0.116471   \n",
       "tempo                    -0.064900 -0.043271 -0.027347  0.157242  0.005051   \n",
       "time_signature           -0.096660  0.097862  0.027452  0.231976 -0.045203   \n",
       "valence                  -0.223484  0.063650  0.064986  0.297878  0.068248   \n",
       "label                     0.136434 -0.042763 -0.142284 -0.399617  0.089219   \n",
       "\n",
       "                  speechiness     tempo  time_signature   valence     label  \n",
       "acousticness        -0.211553 -0.146647       -0.244286 -0.264162  0.459151  \n",
       "danceability         0.277556  0.072492        0.273686  0.482284 -0.365389  \n",
       "duration            -0.094441 -0.108621       -0.012212 -0.239606  0.121365  \n",
       "energy               0.169796  0.171067        0.268790  0.409555 -0.442860  \n",
       "instrumentalness    -0.151462 -0.064900       -0.096660 -0.223484  0.136434  \n",
       "key                  0.062079 -0.043271        0.097862  0.063650 -0.042763  \n",
       "liveness             0.113004 -0.027347        0.027452  0.064986 -0.142284  \n",
       "loudness             0.173760  0.157242        0.231976  0.297878 -0.399617  \n",
       "mode                -0.116471  0.005051       -0.045203  0.068248  0.089219  \n",
       "speechiness          1.000000  0.096851        0.089559  0.103731 -0.476312  \n",
       "tempo                0.096851  1.000000        0.019914  0.099824 -0.071761  \n",
       "time_signature       0.089559  0.019914        1.000000  0.173242 -0.173349  \n",
       "valence              0.103731  0.099824        0.173242  1.000000 -0.194989  \n",
       "label               -0.476312 -0.071761       -0.173349 -0.194989  1.000000  "
      ]
     },
     "execution_count": 10,
     "metadata": {},
     "output_type": "execute_result"
    }
   ],
   "source": [
    "## checking the co relation between the features.\n",
    "training_data.corr(method='pearson')"
   ]
  },
  {
   "cell_type": "code",
   "execution_count": 11,
   "metadata": {},
   "outputs": [
    {
     "data": {
      "text/plain": [
       "Text(0.5, 1.0, 'Correlation Heatmap')"
      ]
     },
     "execution_count": 11,
     "metadata": {},
     "output_type": "execute_result"
    },
    {
     "data": {
      "image/png": "[encoded data removed]",
      "text/plain": [
       "<Figure size 1152x432 with 2 Axes>"
      ]
     },
     "metadata": {
      "needs_background": "light"
     },
     "output_type": "display_data"
    }
   ],
   "source": [
    "plt.figure(figsize=(16, 6))\n",
    "heatmap = sns.heatmap(training_data.corr(), vmin=-1, vmax=1, annot=True);\n",
    "heatmap.set_title('Correlation Heatmap', fontdict={'fontsize':12}, pad=12)"
   ]
  },
  {
   "cell_type": "markdown",
   "metadata": {},
   "source": [
    "#### Variation Inflation Factor"
   ]
  },
  {
   "cell_type": "markdown",
   "metadata": {},
   "source": [
    "” VIF determines the strength of the correlation between the independent variables. It is predicted by taking a variable and regressing it against every other variable. “\n",
    "\n",
    "or\n",
    "\n",
    "VIF score of an independent variable represents how well the variable is explained by other independent variables.\n",
    "\n",
    "R^2 value is determined to find out how well an independent variable is described by the other independent variables. A high value of R^2 means that the variable is highly correlated with the other variables."
   ]
  },
  {
   "cell_type": "code",
   "execution_count": 12,
   "metadata": {},
   "outputs": [],
   "source": [
    "from statsmodels.stats.outliers_influence import variance_inflation_factor\n",
    "\n",
    "def calc_vif(X):\n",
    "    \n",
    "    vif = pd.DataFrame()\n",
    "    vif['features'] = X.columns\n",
    "    vif['VIF'] = [variance_inflation_factor(X.values, i) for i in range(X.shape[1])]\n",
    "    \n",
    "    return vif"
   ]
  },
  {
   "cell_type": "code",
   "execution_count": 13,
   "metadata": {},
   "outputs": [
    {
     "data": {
      "text/html": [
       "<div>\n",
       "<style scoped>\n",
       "    .dataframe tbody tr th:only-of-type {\n",
       "        vertical-align: middle;\n",
       "    }\n",
       "\n",
       "    .dataframe tbody tr th {\n",
       "        vertical-align: top;\n",
       "    }\n",
       "\n",
       "    .dataframe thead th {\n",
       "        text-align: right;\n",
       "    }\n",
       "</style>\n",
       "<table border=\"1\" class=\"dataframe\">\n",
       "  <thead>\n",
       "    <tr style=\"text-align: right;\">\n",
       "      <th></th>\n",
       "      <th>features</th>\n",
       "      <th>VIF</th>\n",
       "    </tr>\n",
       "  </thead>\n",
       "  <tbody>\n",
       "    <tr>\n",
       "      <th>0</th>\n",
       "      <td>acousticness</td>\n",
       "      <td>5.357081</td>\n",
       "    </tr>\n",
       "    <tr>\n",
       "      <th>1</th>\n",
       "      <td>danceability</td>\n",
       "      <td>22.092265</td>\n",
       "    </tr>\n",
       "    <tr>\n",
       "      <th>2</th>\n",
       "      <td>duration</td>\n",
       "      <td>13.984407</td>\n",
       "    </tr>\n",
       "    <tr>\n",
       "      <th>3</th>\n",
       "      <td>energy</td>\n",
       "      <td>28.909345</td>\n",
       "    </tr>\n",
       "    <tr>\n",
       "      <th>4</th>\n",
       "      <td>instrumentalness</td>\n",
       "      <td>1.597466</td>\n",
       "    </tr>\n",
       "    <tr>\n",
       "      <th>5</th>\n",
       "      <td>key</td>\n",
       "      <td>2.907780</td>\n",
       "    </tr>\n",
       "    <tr>\n",
       "      <th>6</th>\n",
       "      <td>liveness</td>\n",
       "      <td>2.848421</td>\n",
       "    </tr>\n",
       "    <tr>\n",
       "      <th>7</th>\n",
       "      <td>loudness</td>\n",
       "      <td>12.697630</td>\n",
       "    </tr>\n",
       "    <tr>\n",
       "      <th>8</th>\n",
       "      <td>mode</td>\n",
       "      <td>4.026989</td>\n",
       "    </tr>\n",
       "    <tr>\n",
       "      <th>9</th>\n",
       "      <td>speechiness</td>\n",
       "      <td>2.525199</td>\n",
       "    </tr>\n",
       "    <tr>\n",
       "      <th>10</th>\n",
       "      <td>tempo</td>\n",
       "      <td>18.086552</td>\n",
       "    </tr>\n",
       "    <tr>\n",
       "      <th>11</th>\n",
       "      <td>time_signature</td>\n",
       "      <td>67.878068</td>\n",
       "    </tr>\n",
       "    <tr>\n",
       "      <th>12</th>\n",
       "      <td>valence</td>\n",
       "      <td>8.662213</td>\n",
       "    </tr>\n",
       "    <tr>\n",
       "      <th>13</th>\n",
       "      <td>label</td>\n",
       "      <td>4.090008</td>\n",
       "    </tr>\n",
       "  </tbody>\n",
       "</table>\n",
       "</div>"
      ],
      "text/plain": [
       "            features        VIF\n",
       "0       acousticness   5.357081\n",
       "1       danceability  22.092265\n",
       "2           duration  13.984407\n",
       "3             energy  28.909345\n",
       "4   instrumentalness   1.597466\n",
       "5                key   2.907780\n",
       "6           liveness   2.848421\n",
       "7           loudness  12.697630\n",
       "8               mode   4.026989\n",
       "9        speechiness   2.525199\n",
       "10             tempo  18.086552\n",
       "11    time_signature  67.878068\n",
       "12           valence   8.662213\n",
       "13             label   4.090008"
      ]
     },
     "execution_count": 13,
     "metadata": {},
     "output_type": "execute_result"
    }
   ],
   "source": [
    "calc_vif(training_data)"
   ]
  },
  {
   "cell_type": "code",
   "execution_count": 17,
   "metadata": {},
   "outputs": [],
   "source": [
    "#training_data.drop(['danceability', 'energy', 'time_signature'], axis=1, inplace=True)\n",
    "# At the moment we are skipping of dropping the features as it is reducing the accuracy on val dataset"
   ]
  },
  {
   "cell_type": "markdown",
   "metadata": {},
   "source": [
    "- VIF starts at 1 and has no upper limit\n",
    "- VIF = 1, no correlation between the independent variable and the other variables\n",
    "- VIF exceeding 5 or 10 indicates high multicollinearity between this independent variable and the others"
   ]
  },
  {
   "cell_type": "code",
   "execution_count": 18,
   "metadata": {},
   "outputs": [],
   "source": [
    "# Seperating the label from the features and storing it into Y\n",
    "Y = training_data.pop('label')\n"
   ]
  },
  {
   "cell_type": "code",
   "execution_count": 19,
   "metadata": {},
   "outputs": [],
   "source": [
    "# storing the features into X after excluding label\n",
    "X = training_data"
   ]
  },
  {
   "cell_type": "markdown",
   "metadata": {},
   "source": [
    "### Normalization\n",
    "\n",
    "We can see that there is a huge difference in the range of values present in our numerical features:[duration,tempo, and others]. So we have to do normalization of the features.\n"
   ]
  },
  {
   "cell_type": "code",
   "execution_count": 15,
   "metadata": {},
   "outputs": [],
   "source": [
    "from sklearn.preprocessing import MinMaxScaler"
   ]
  },
  {
   "cell_type": "code",
   "execution_count": 16,
   "metadata": {},
   "outputs": [],
   "source": [
    "def data_normalized(X):\n",
    "    \n",
    "    # fit scaler on training data\n",
    "    norm = MinMaxScaler().fit(X)\n",
    "    # transform training data\n",
    "    X = norm.transform(X)\n",
    "    \n",
    "    return X"
   ]
  },
  {
   "cell_type": "code",
   "execution_count": 20,
   "metadata": {},
   "outputs": [],
   "source": [
    "X = data_normalized(X)"
   ]
  },
  {
   "cell_type": "code",
   "execution_count": 22,
   "metadata": {},
   "outputs": [
    {
     "name": "stdout",
     "output_type": "stream",
     "text": [
      "(750, 13)\n",
      "(750,)\n"
     ]
    }
   ],
   "source": [
    "print(X.shape)\n",
    "print(Y.shape)"
   ]
  },
  {
   "cell_type": "markdown",
   "metadata": {},
   "source": [
    "Split the Training data into train and validation sets to check the accuracy on Validation data."
   ]
  },
  {
   "cell_type": "code",
   "execution_count": 23,
   "metadata": {},
   "outputs": [],
   "source": [
    "from sklearn.model_selection import train_test_split\n",
    "x_train, x_val, y_train, y_val = train_test_split(X, Y, test_size=0.25, random_state=1)"
   ]
  },
  {
   "cell_type": "code",
   "execution_count": 26,
   "metadata": {},
   "outputs": [
    {
     "name": "stdout",
     "output_type": "stream",
     "text": [
      "(562, 13)\n",
      "(562,)\n",
      "(188, 13)\n",
      "(188,)\n"
     ]
    }
   ],
   "source": [
    "print(x_train.shape)\n",
    "print(y_train.shape)\n",
    "print(x_val.shape)\n",
    "print(y_val.shape)"
   ]
  },
  {
   "cell_type": "code",
   "execution_count": 27,
   "metadata": {},
   "outputs": [
    {
     "data": {
      "text/plain": [
       "KNeighborsClassifier(n_neighbors=3)"
      ]
     },
     "execution_count": 27,
     "metadata": {},
     "output_type": "execute_result"
    }
   ],
   "source": [
    "from sklearn.neighbors import KNeighborsClassifier\n",
    "model = KNeighborsClassifier(n_neighbors=3)\n",
    "model.fit(x_train,y_train)"
   ]
  },
  {
   "cell_type": "markdown",
   "metadata": {},
   "source": [
    "### Accuracy on the Test Data"
   ]
  },
  {
   "cell_type": "code",
   "execution_count": 28,
   "metadata": {},
   "outputs": [
    {
     "data": {
      "text/plain": [
       "0.7021276595744681"
      ]
     },
     "execution_count": 28,
     "metadata": {},
     "output_type": "execute_result"
    }
   ],
   "source": [
    "model.score(x_val,y_val)"
   ]
  },
  {
   "cell_type": "markdown",
   "metadata": {},
   "source": [
    "## Songs_To_Classify Dataset"
   ]
  },
  {
   "cell_type": "code",
   "execution_count": 29,
   "metadata": {},
   "outputs": [
    {
     "data": {
      "text/html": [
       "<div>\n",
       "<style scoped>\n",
       "    .dataframe tbody tr th:only-of-type {\n",
       "        vertical-align: middle;\n",
       "    }\n",
       "\n",
       "    .dataframe tbody tr th {\n",
       "        vertical-align: top;\n",
       "    }\n",
       "\n",
       "    .dataframe thead th {\n",
       "        text-align: right;\n",
       "    }\n",
       "</style>\n",
       "<table border=\"1\" class=\"dataframe\">\n",
       "  <thead>\n",
       "    <tr style=\"text-align: right;\">\n",
       "      <th></th>\n",
       "      <th>acousticness</th>\n",
       "      <th>danceability</th>\n",
       "      <th>duration</th>\n",
       "      <th>energy</th>\n",
       "      <th>instrumentalness</th>\n",
       "      <th>key</th>\n",
       "      <th>liveness</th>\n",
       "      <th>loudness</th>\n",
       "      <th>mode</th>\n",
       "      <th>speechiness</th>\n",
       "      <th>tempo</th>\n",
       "      <th>time_signature</th>\n",
       "      <th>valence</th>\n",
       "    </tr>\n",
       "  </thead>\n",
       "  <tbody>\n",
       "    <tr>\n",
       "      <th>0</th>\n",
       "      <td>0.00118</td>\n",
       "      <td>0.659</td>\n",
       "      <td>228253</td>\n",
       "      <td>0.7020</td>\n",
       "      <td>0.000017</td>\n",
       "      <td>0</td>\n",
       "      <td>0.0246</td>\n",
       "      <td>-7.641</td>\n",
       "      <td>0</td>\n",
       "      <td>0.0307</td>\n",
       "      <td>133.439</td>\n",
       "      <td>4</td>\n",
       "      <td>0.6940</td>\n",
       "    </tr>\n",
       "    <tr>\n",
       "      <th>1</th>\n",
       "      <td>0.98400</td>\n",
       "      <td>0.274</td>\n",
       "      <td>320293</td>\n",
       "      <td>0.0591</td>\n",
       "      <td>0.665000</td>\n",
       "      <td>5</td>\n",
       "      <td>0.1560</td>\n",
       "      <td>-22.027</td>\n",
       "      <td>0</td>\n",
       "      <td>0.0484</td>\n",
       "      <td>89.426</td>\n",
       "      <td>4</td>\n",
       "      <td>0.0765</td>\n",
       "    </tr>\n",
       "    <tr>\n",
       "      <th>2</th>\n",
       "      <td>0.99200</td>\n",
       "      <td>0.525</td>\n",
       "      <td>228253</td>\n",
       "      <td>0.0553</td>\n",
       "      <td>0.933000</td>\n",
       "      <td>2</td>\n",
       "      <td>0.0934</td>\n",
       "      <td>-22.358</td>\n",
       "      <td>1</td>\n",
       "      <td>0.0633</td>\n",
       "      <td>67.325</td>\n",
       "      <td>4</td>\n",
       "      <td>0.2560</td>\n",
       "    </tr>\n",
       "    <tr>\n",
       "      <th>3</th>\n",
       "      <td>0.02780</td>\n",
       "      <td>0.677</td>\n",
       "      <td>166800</td>\n",
       "      <td>0.5580</td>\n",
       "      <td>0.000000</td>\n",
       "      <td>11</td>\n",
       "      <td>0.8730</td>\n",
       "      <td>-7.622</td>\n",
       "      <td>0</td>\n",
       "      <td>0.2520</td>\n",
       "      <td>95.032</td>\n",
       "      <td>4</td>\n",
       "      <td>0.5640</td>\n",
       "    </tr>\n",
       "    <tr>\n",
       "      <th>4</th>\n",
       "      <td>0.00926</td>\n",
       "      <td>0.612</td>\n",
       "      <td>211200</td>\n",
       "      <td>0.7310</td>\n",
       "      <td>0.846000</td>\n",
       "      <td>8</td>\n",
       "      <td>0.1510</td>\n",
       "      <td>-9.147</td>\n",
       "      <td>0</td>\n",
       "      <td>0.1650</td>\n",
       "      <td>150.005</td>\n",
       "      <td>4</td>\n",
       "      <td>0.7440</td>\n",
       "    </tr>\n",
       "  </tbody>\n",
       "</table>\n",
       "</div>"
      ],
      "text/plain": [
       "   acousticness  danceability  duration  energy  instrumentalness  key  \\\n",
       "0       0.00118         0.659    228253  0.7020          0.000017    0   \n",
       "1       0.98400         0.274    320293  0.0591          0.665000    5   \n",
       "2       0.99200         0.525    228253  0.0553          0.933000    2   \n",
       "3       0.02780         0.677    166800  0.5580          0.000000   11   \n",
       "4       0.00926         0.612    211200  0.7310          0.846000    8   \n",
       "\n",
       "   liveness  loudness  mode  speechiness    tempo  time_signature  valence  \n",
       "0    0.0246    -7.641     0       0.0307  133.439               4   0.6940  \n",
       "1    0.1560   -22.027     0       0.0484   89.426               4   0.0765  \n",
       "2    0.0934   -22.358     1       0.0633   67.325               4   0.2560  \n",
       "3    0.8730    -7.622     0       0.2520   95.032               4   0.5640  \n",
       "4    0.1510    -9.147     0       0.1650  150.005               4   0.7440  "
      ]
     },
     "execution_count": 29,
     "metadata": {},
     "output_type": "execute_result"
    }
   ],
   "source": [
    "test_data = pd.read_csv('songs_to_classify.csv')\n",
    "test_data.head()"
   ]
  },
  {
   "cell_type": "code",
   "execution_count": 30,
   "metadata": {},
   "outputs": [
    {
     "data": {
      "text/plain": [
       "(200, 13)"
      ]
     },
     "execution_count": 30,
     "metadata": {},
     "output_type": "execute_result"
    }
   ],
   "source": [
    "test_data.shape"
   ]
  },
  {
   "cell_type": "code",
   "execution_count": 31,
   "metadata": {},
   "outputs": [],
   "source": [
    "x_test = data_normalized(test_data)"
   ]
  },
  {
   "cell_type": "code",
   "execution_count": 32,
   "metadata": {},
   "outputs": [
    {
     "data": {
      "text/plain": [
       "(200, 13)"
      ]
     },
     "execution_count": 32,
     "metadata": {},
     "output_type": "execute_result"
    }
   ],
   "source": [
    "x_test.shape"
   ]
  },
  {
   "cell_type": "code",
   "execution_count": 33,
   "metadata": {},
   "outputs": [],
   "source": [
    "y_pred = model.predict(x_test)"
   ]
  },
  {
   "cell_type": "code",
   "execution_count": 34,
   "metadata": {},
   "outputs": [
    {
     "data": {
      "text/plain": [
       "(200,)"
      ]
     },
     "execution_count": 34,
     "metadata": {},
     "output_type": "execute_result"
    }
   ],
   "source": [
    "y_pred.shape"
   ]
  },
  {
   "cell_type": "markdown",
   "metadata": {},
   "source": [
    "### Predictions on Songs_To_Classify Dataset"
   ]
  },
  {
   "cell_type": "code",
   "execution_count": 35,
   "metadata": {},
   "outputs": [
    {
     "data": {
      "text/plain": [
       "array([0, 1, 1, 0, 0, 1, 1, 1, 0, 1, 1, 1, 1, 0, 0, 1, 1, 0, 0, 1, 1, 0,\n",
       "       1, 1, 1, 1, 1, 1, 1, 0, 0, 1, 1, 1, 0, 1, 1, 1, 1, 0, 1, 1, 1, 0,\n",
       "       1, 1, 1, 0, 0, 0, 0, 0, 0, 1, 1, 1, 1, 0, 1, 1, 1, 0, 0, 0, 0, 1,\n",
       "       1, 0, 1, 0, 0, 1, 1, 1, 0, 1, 0, 1, 0, 0, 0, 0, 1, 1, 1, 1, 0, 1,\n",
       "       0, 0, 1, 1, 0, 1, 0, 1, 1, 1, 0, 1, 1, 0, 1, 0, 0, 1, 1, 1, 1, 1,\n",
       "       0, 1, 0, 0, 1, 1, 1, 1, 1, 1, 0, 1, 1, 1, 0, 0, 0, 1, 0, 1, 1, 0,\n",
       "       1, 1, 1, 0, 1, 1, 1, 0, 1, 1, 1, 1, 1, 1, 1, 0, 1, 0, 1, 1, 0, 0,\n",
       "       1, 1, 0, 0, 1, 1, 1, 0, 1, 0, 0, 1, 1, 0, 0, 1, 0, 1, 1, 0, 1, 1,\n",
       "       1, 0, 1, 1, 1, 0, 1, 0, 1, 0, 1, 0, 1, 1, 1, 0, 1, 1, 1, 1, 0, 1,\n",
       "       0, 1], dtype=int64)"
      ]
     },
     "execution_count": 35,
     "metadata": {},
     "output_type": "execute_result"
    }
   ],
   "source": [
    "y_pred"
   ]
  },
  {
   "cell_type": "code",
   "execution_count": 40,
   "metadata": {},
   "outputs": [],
   "source": [
    "predicted_df = pd.DataFrame(y_pred, columns=['songs'])"
   ]
  },
  {
   "cell_type": "code",
   "execution_count": 50,
   "metadata": {},
   "outputs": [],
   "source": [
    "predicted_df.to_csv('results.csv')"
   ]
  },
  {
   "cell_type": "markdown",
   "metadata": {},
   "source": [
    "### Results Analysis using Bar Plotting"
   ]
  },
  {
   "cell_type": "code",
   "execution_count": 46,
   "metadata": {},
   "outputs": [
    {
     "data": {
      "text/plain": [
       "Text(0, 0.5, 'Number of Songs')"
      ]
     },
     "execution_count": 46,
     "metadata": {},
     "output_type": "execute_result"
    },
    {
     "data": {
      "image/png": "[encoded data removed]",
      "text/plain": [
       "<Figure size 1008x432 with 1 Axes>"
      ]
     },
     "metadata": {
      "needs_background": "light"
     },
     "output_type": "display_data"
    }
   ],
   "source": [
    "ax = predicted_df.songs.value_counts().plot(kind='bar', figsize=(14,6))\n",
    "ax.set_title('Songs Classification')\n",
    "ax.set_ylabel('Number of Songs')"
   ]
  },
  {
   "cell_type": "markdown",
   "metadata": {},
   "source": [
    "### Results Analysis using Pie Chart Plotting\n"
   ]
  },
  {
   "cell_type": "code",
   "execution_count": 48,
   "metadata": {},
   "outputs": [
    {
     "data": {
      "text/plain": [
       "Text(0.5, 1.0, 'Songs Classification')"
      ]
     },
     "execution_count": 48,
     "metadata": {},
     "output_type": "execute_result"
    },
    {
     "data": {
      "image/png": "[encoded data removed]",
      "text/plain": [
       "<Figure size 1008x432 with 1 Axes>"
      ]
     },
     "metadata": {},
     "output_type": "display_data"
    }
   ],
   "source": [
    "ax = predicted_df.songs.value_counts().plot(kind='pie', figsize=(14,6))\n",
    "ax.set_title('Songs Classification')"
   ]
  }
 ],
 "metadata": {
  "kernelspec": {
   "display_name": "Python 3",
   "language": "python",
   "name": "python3"
  },
  "language_info": {
   "codemirror_mode": {
    "name": "ipython",
    "version": 3
   },
   "file_extension": ".py",
   "mimetype": "text/x-python",
   "name": "python",
   "nbconvert_exporter": "python",
   "pygments_lexer": "ipython3",
   "version": "3.8.3"
  }
 },
 "nbformat": 4,
 "nbformat_minor": 4
}
